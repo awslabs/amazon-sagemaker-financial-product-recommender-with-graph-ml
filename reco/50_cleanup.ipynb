{
 "cells": [
  {
   "cell_type": "markdown",
   "id": "94e2e8aa-9ceb-469a-9ddb-6a4a55c27692",
   "metadata": {},
   "source": [
    "# Cleaning Up\n",
    "\n",
    "Cleaning the local folder"
   ]
  },
  {
   "cell_type": "code",
   "execution_count": null,
   "id": "5281b1c0-4e18-4f09-9688-1e6a4eca3ea2",
   "metadata": {},
   "outputs": [],
   "source": [
    "!rm -rf training_job source_dir models datasets trades.tsv source_data"
   ]
  },
  {
   "cell_type": "markdown",
   "id": "6332c8a2-1f03-4765-b5ff-3ad91cbea266",
   "metadata": {},
   "source": [
    "Cleaning the SageMaker bucket"
   ]
  },
  {
   "cell_type": "code",
   "execution_count": null,
   "id": "b3ae2362-ed70-4db5-b7bd-4aa1f2202f06",
   "metadata": {
    "tags": []
   },
   "outputs": [],
   "source": [
    "import sagemaker\n",
    "bucket = sagemaker.Session().default_bucket()\n",
    "bucket"
   ]
  },
  {
   "cell_type": "code",
   "execution_count": null,
   "id": "9b5259a2-51fe-4fd5-acbf-558faf5ee341",
   "metadata": {
    "tags": []
   },
   "outputs": [],
   "source": [
    "!aws s3 ls $bucket"
   ]
  },
  {
   "cell_type": "code",
   "execution_count": null,
   "id": "ec23fb36-25d2-4e5b-9458-f0bb83b0ba24",
   "metadata": {
    "tags": []
   },
   "outputs": [],
   "source": [
    "!aws s3 rm s3://$bucket/ --recursive "
   ]
  },
  {
   "cell_type": "code",
   "execution_count": null,
   "id": "f75447e9-4bd9-46dd-9085-51bab6563c12",
   "metadata": {},
   "outputs": [],
   "source": []
  }
 ],
 "metadata": {
  "kernelspec": {
   "display_name": "conda_python3",
   "language": "python",
   "name": "conda_python3"
  },
  "language_info": {
   "codemirror_mode": {
    "name": "ipython",
    "version": 3
   },
   "file_extension": ".py",
   "mimetype": "text/x-python",
   "name": "python",
   "nbconvert_exporter": "python",
   "pygments_lexer": "ipython3",
   "version": "3.10.8"
  }
 },
 "nbformat": 4,
 "nbformat_minor": 5
}
