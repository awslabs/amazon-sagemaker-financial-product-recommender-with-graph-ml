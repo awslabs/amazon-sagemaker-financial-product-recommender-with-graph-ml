{
 "cells": [
  {
   "cell_type": "markdown",
   "id": "8c2218f9",
   "metadata": {},
   "source": [
    "# Training the model remotely on a SageMaker Training Instance"
   ]
  },
  {
   "cell_type": "markdown",
   "id": "d4eaf3c2",
   "metadata": {},
   "source": [
    "In this notebook we train a recommendation model on the trade data that we created, and we produce recommendations for each investor. \n",
    "\n",
    "The model code is in 'train.py', we will execute this script remotely on a SageMaker Training Instance."
   ]
  },
  {
   "cell_type": "markdown",
   "id": "6f5f8ae5",
   "metadata": {},
   "source": [
    "We start by importing the SageMaker library and getting the role, region and session."
   ]
  },
  {
   "cell_type": "code",
   "execution_count": null,
   "id": "ade4907f",
   "metadata": {
    "tags": []
   },
   "outputs": [],
   "source": [
    "import sagemaker, boto3, json\n",
    "from sagemaker import get_execution_role\n",
    "\n",
    "aws_role = get_execution_role()\n",
    "aws_region = boto3.Session().region_name\n",
    "sess = sagemaker.Session()\n",
    "aws_role"
   ]
  },
  {
   "cell_type": "markdown",
   "id": "b4ed66b3-f5f1-4113-b409-571d1ef2ca01",
   "metadata": {},
   "source": [
    "Next we define the S3 bucket, input and output path that we are going to use."
   ]
  },
  {
   "cell_type": "code",
   "execution_count": null,
   "id": "37a35b3a-afda-4d59-a4ec-44aab861f9a5",
   "metadata": {
    "tags": []
   },
   "outputs": [],
   "source": [
    "bucket = sess.default_bucket()\n",
    "\n",
    "training_dataset_s3_path = f\"s3://{bucket}/input\"\n",
    "s3_output_location = f\"s3://{bucket}/output\"\n",
    "print(training_dataset_s3_path)\n",
    "print(s3_output_location)"
   ]
  },
  {
   "cell_type": "markdown",
   "id": "c37b1acd-03f9-4001-813d-9ba0cc64e8de",
   "metadata": {
    "tags": []
   },
   "source": [
    "Now we upload our data to the bucket."
   ]
  },
  {
   "cell_type": "code",
   "execution_count": null,
   "id": "15d1628e-21f1-418e-893e-812846fadc9c",
   "metadata": {
    "tags": []
   },
   "outputs": [],
   "source": [
    "!aws s3 cp trades.tsv {training_dataset_s3_path}/trades.tsv"
   ]
  },
  {
   "cell_type": "markdown",
   "id": "d00983ba",
   "metadata": {},
   "source": [
    "Before starting the training job, we prepare the code that will be executed."
   ]
  },
  {
   "cell_type": "code",
   "execution_count": null,
   "id": "fec0496f-7b18-4d8a-b553-8e5839a9d157",
   "metadata": {
    "tags": []
   },
   "outputs": [],
   "source": [
    "!mkdir -p source_dir\n",
    "!cp *.py *.whl requirements.txt source_dir"
   ]
  },
  {
   "cell_type": "markdown",
   "id": "e005a24d-330f-487e-80a6-cb6882ca85cd",
   "metadata": {},
   "source": [
    "Now we define the training job as an Estimator object. \n",
    "\n",
    "The execution environment is defined by the instance type, the docker image and the source_dir.\n",
    "\n",
    "The command is defined by the entry point and the hyperparameters."
   ]
  },
  {
   "cell_type": "code",
   "execution_count": null,
   "id": "a8463374-c020-4918-9e3b-12e47e7b800f",
   "metadata": {
    "tags": []
   },
   "outputs": [],
   "source": [
    "from sagemaker.estimator import Estimator\n",
    "from sagemaker.utils import name_from_base\n",
    "\n",
    "training_job_name = name_from_base(f\"job\")\n",
    "\n",
    "estimator = Estimator(\n",
    "    role=aws_role,\n",
    "    instance_count=1,\n",
    "    instance_type='ml.c5.4xlarge',\n",
    "    image_uri='763104351884.dkr.ecr.us-east-1.amazonaws.com/pytorch-training:1.12.1-cpu-py38-ubuntu20.04-sagemaker',\n",
    "    source_dir='./source_dir',\n",
    "    entry_point=\"train.py\",\n",
    "    hyperparameters={\n",
    "        'datapath': 'trades.tsv',\n",
    "        'training-index': 71,\n",
    "        'prediction-index': 73,\n",
    "    },\n",
    "    max_run=360000,\n",
    ")"
   ]
  },
  {
   "cell_type": "markdown",
   "id": "7a8bcc75-e331-4105-b1b2-88ea9db32cce",
   "metadata": {},
   "source": [
    "Next we start the training job, passing the s3 input path and the job name. "
   ]
  },
  {
   "cell_type": "code",
   "execution_count": null,
   "id": "8c01090c-cabb-4e95-9bc9-91a4b5764d1e",
   "metadata": {
    "scrolled": true,
    "tags": []
   },
   "outputs": [],
   "source": [
    "estimator.fit({\"training\": training_dataset_s3_path}, logs=True, job_name=training_job_name)"
   ]
  },
  {
   "cell_type": "markdown",
   "id": "634316cd-d2a3-4d48-9428-301ab8f64f2d",
   "metadata": {},
   "source": [
    "Now we retrieve the job output"
   ]
  },
  {
   "cell_type": "code",
   "execution_count": null,
   "id": "89620c2d-6911-4cb2-8705-e9fa8a2a9060",
   "metadata": {
    "scrolled": true,
    "tags": []
   },
   "outputs": [],
   "source": [
    "!rm -rf training_job\n",
    "!aws s3 sync s3://{bucket}/{training_job_name} training_job\n",
    "!tar xvf training_job/output/model.tar.gz -C training_job/output\n",
    "!tar xvf training_job/output/output.tar.gz -C training_job/output"
   ]
  },
  {
   "cell_type": "markdown",
   "id": "38f15c44-5e8d-47c7-9c11-565d30a0e623",
   "metadata": {},
   "source": [
    "Finally we can load and explore the recommendations"
   ]
  },
  {
   "cell_type": "code",
   "execution_count": null,
   "id": "cdd814d2-a2be-441c-8a3e-10b2fba8cac9",
   "metadata": {
    "tags": []
   },
   "outputs": [],
   "source": [
    "import pandas as pd\n",
    "\n",
    "df = pd.read_csv('training_job/output/TransE_l2_trades_2017-03-31_2017-09-30_0/reco.tsv', sep='\\t')\n",
    "del df['rel']\n",
    "df.columns = 'investor security score'.split()\n",
    "df.shape"
   ]
  },
  {
   "cell_type": "code",
   "execution_count": null,
   "id": "2680cebc-bb5e-4aa3-9a08-1f82f6f76616",
   "metadata": {
    "tags": []
   },
   "outputs": [],
   "source": [
    "df"
   ]
  },
  {
   "cell_type": "markdown",
   "id": "26f53653-2187-412c-b707-521c46773182",
   "metadata": {},
   "source": [
    "To query for a specific investor we use a fuzzy matching library"
   ]
  },
  {
   "cell_type": "code",
   "execution_count": null,
   "id": "27d8a1c5-09a5-4367-ba18-3b52c897b57e",
   "metadata": {
    "tags": []
   },
   "outputs": [],
   "source": [
    "!pip install thefuzz[speedup]"
   ]
  },
  {
   "cell_type": "code",
   "execution_count": null,
   "id": "cf8a6c8c-92cb-4b3e-8dd4-96211cad919b",
   "metadata": {
    "tags": []
   },
   "outputs": [],
   "source": [
    "from thefuzz import process"
   ]
  },
  {
   "cell_type": "code",
   "execution_count": null,
   "id": "1cae9254-388e-4fe0-a2ad-f14a479bc94e",
   "metadata": {
    "tags": []
   },
   "outputs": [],
   "source": [
    "query = 'rennaissan'\n",
    "choices = df.investor.unique()\n",
    "response = process.extractOne(query, choices)[0]\n",
    "response"
   ]
  },
  {
   "cell_type": "code",
   "execution_count": null,
   "id": "ff64140a-2e08-48b1-b5b2-79e004af124d",
   "metadata": {
    "tags": []
   },
   "outputs": [],
   "source": [
    "df[df.investor.eq(response)]"
   ]
  },
  {
   "cell_type": "code",
   "execution_count": null,
   "id": "8d8e5f2f-f570-46d1-b16e-62b6c0a40aae",
   "metadata": {},
   "outputs": [],
   "source": []
  }
 ],
 "metadata": {
  "kernelspec": {
   "display_name": "conda_python3",
   "language": "python",
   "name": "conda_python3"
  },
  "language_info": {
   "codemirror_mode": {
    "name": "ipython",
    "version": 3
   },
   "file_extension": ".py",
   "mimetype": "text/x-python",
   "name": "python",
   "nbconvert_exporter": "python",
   "pygments_lexer": "ipython3",
   "version": "3.10.8"
  }
 },
 "nbformat": 4,
 "nbformat_minor": 5
}
