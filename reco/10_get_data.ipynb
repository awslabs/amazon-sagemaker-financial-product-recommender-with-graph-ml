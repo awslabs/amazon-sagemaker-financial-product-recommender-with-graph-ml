{
 "cells": [
  {
   "cell_type": "markdown",
   "id": "a269c5af-b998-4dfe-afeb-09be7365e281",
   "metadata": {},
   "source": [
    "# Getting the source data\n",
    "\n",
    "In this notebook we get the source data that we need to build our model.\n",
    "\n",
    "The main security holdings data is downloaded from https://dataverse.harvard.edu. We use this source instead of https://www.sec.gov because the Harvard data comes in 2 simple tables, instead of many XML files for the SEC data.\n",
    "\n",
    "The Harvard data only contains CUSIPs (security identifiers) and does not contain security names, we get the names from https://www.sec.gov as PDFs (see for example [this PDF](https://www.sec.gov/divisions/investment/13f/13flist2004q2.pdf)). We pre-processed these PDFs in python and generated a simple TSV<sup>1</sup> file that we will use here. For more details see the folder *../cusips*.\n",
    "\n",
    "<sup>1</sup>: Tab Separated Values"
   ]
  },
  {
   "cell_type": "markdown",
   "id": "8fe89c41-f348-4914-8cfa-aecc611565dc",
   "metadata": {},
   "source": [
    "Let's get the security names and see a few examples:"
   ]
  },
  {
   "cell_type": "code",
   "execution_count": null,
   "id": "3428aaa2-7412-43ce-bf03-131c3b4e9788",
   "metadata": {},
   "outputs": [],
   "source": [
    "!mkdir -p source_data\n",
    "!cp ../cusips/cusips.tsv source_data/cusips.tsv"
   ]
  },
  {
   "cell_type": "code",
   "execution_count": null,
   "id": "c0586f59-af21-459f-ad6d-99759fe6f03e",
   "metadata": {},
   "outputs": [],
   "source": [
    "import pandas as pd\n",
    "cusips = pd.read_csv('source_data/cusips.tsv', sep='\\t')\n",
    "cusips"
   ]
  },
  {
   "cell_type": "code",
   "execution_count": null,
   "id": "5ddc4425-fcf2-4cdb-9522-9d8de8a71331",
   "metadata": {
    "tags": []
   },
   "outputs": [],
   "source": [
    "cusips.describe()"
   ]
  },
  {
   "cell_type": "markdown",
   "id": "780dcc4e-192a-45ca-8db9-1e6faccc91a6",
   "metadata": {
    "tags": []
   },
   "source": [
    "Next we get the holdings data:"
   ]
  },
  {
   "cell_type": "code",
   "execution_count": null,
   "id": "f99f8c05-325a-497f-8f7f-386ed3962e04",
   "metadata": {},
   "outputs": [],
   "source": [
    "!wget https://dataverse.harvard.edu/api/access/datafile/:persistentId?persistentId=doi:10.7910/DVN/ZRH3EU/7ATD7M -O source_data/scrape_parsed.parquet"
   ]
  },
  {
   "cell_type": "markdown",
   "id": "f5701e2a-c6e6-487f-9b1b-2722c725d1db",
   "metadata": {},
   "source": [
    " "
   ]
  },
  {
   "cell_type": "markdown",
   "id": "38d7edc1-bcab-4437-967f-47eccc874f43",
   "metadata": {
    "tags": []
   },
   "source": [
    "The holdings data is fairly large, as it contains almost 20 years of holdings reporting for all investors."
   ]
  },
  {
   "cell_type": "code",
   "execution_count": null,
   "id": "a3d71ffc-94a7-4ed3-96b6-8c20e9b656e8",
   "metadata": {
    "tags": []
   },
   "outputs": [],
   "source": [
    "holdings = pd.read_parquet('source_data/scrape_parsed.parquet')\n",
    "holdings"
   ]
  },
  {
   "cell_type": "markdown",
   "id": "e8a85942-6253-4c96-805e-4d8b29e24d14",
   "metadata": {},
   "source": [
    "Precisely we have 75 quarters of reporting between 1999 and 2017."
   ]
  },
  {
   "cell_type": "code",
   "execution_count": null,
   "id": "dc3ce6a8-8dd6-4b31-95ad-011fd4c9b2a3",
   "metadata": {
    "tags": []
   },
   "outputs": [],
   "source": [
    "holdings.rdate.nunique(), holdings.rdate.min(), holdings.rdate.max()"
   ]
  },
  {
   "cell_type": "markdown",
   "id": "2a35c72f-f0e4-45f4-b0b6-d8948f904f05",
   "metadata": {},
   "source": [
    "We see 8170 investors identified by their Central Index Key, and 17811 securities, identified by their CUSIP. "
   ]
  },
  {
   "cell_type": "code",
   "execution_count": null,
   "id": "c607a713-7991-44d4-bb4c-352c47c380dc",
   "metadata": {
    "tags": []
   },
   "outputs": [],
   "source": [
    "holdings.nunique()"
   ]
  },
  {
   "cell_type": "markdown",
   "id": "4db8d8ae-e333-49c5-9a5b-25d45fec5c68",
   "metadata": {
    "tags": []
   },
   "source": [
    "As for securities, we want to identify investors by name, so we download the CIK to name mapping."
   ]
  },
  {
   "cell_type": "code",
   "execution_count": null,
   "id": "d19b1de9-a2b1-49a1-8707-c9aedf519510",
   "metadata": {
    "tags": []
   },
   "outputs": [],
   "source": [
    "!wget https://dataverse.harvard.edu/api/access/datafile/:persistentId?persistentId=doi:10.7910/DVN/ZRH3EU/RRNFLT -O source_data/cikmap.tab"
   ]
  },
  {
   "cell_type": "code",
   "execution_count": null,
   "id": "e6af385a-2702-4231-8593-51720da99cb1",
   "metadata": {
    "tags": []
   },
   "outputs": [],
   "source": [
    "cik = pd.read_csv('source_data/cikmap.tab', sep='\\t')\n",
    "cik"
   ]
  },
  {
   "cell_type": "code",
   "execution_count": null,
   "id": "86f9dff1-4bf4-44dd-8c39-cdcb37d08d8d",
   "metadata": {
    "tags": []
   },
   "outputs": [],
   "source": [
    "cik.nunique()"
   ]
  },
  {
   "cell_type": "code",
   "execution_count": null,
   "id": "cab9c552-7b20-4edc-b7cb-7a7ae364d203",
   "metadata": {},
   "outputs": [],
   "source": []
  }
 ],
 "metadata": {
  "kernelspec": {
   "display_name": "conda_python3",
   "language": "python",
   "name": "conda_python3"
  },
  "language_info": {
   "codemirror_mode": {
    "name": "ipython",
    "version": 3
   },
   "file_extension": ".py",
   "mimetype": "text/x-python",
   "name": "python",
   "nbconvert_exporter": "python",
   "pygments_lexer": "ipython3",
   "version": "3.10.8"
  }
 },
 "nbformat": 4,
 "nbformat_minor": 5
}
