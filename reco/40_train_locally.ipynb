{
 "cells": [
  {
   "cell_type": "markdown",
   "id": "2d84da4a-f15d-4740-9c25-548ae3f6e245",
   "metadata": {},
   "source": [
    "# Training the model locally\n",
    "\n",
    "In this notebook you can see all the steps involved to produce the security recommendations:\n",
    "\n",
    "1. Importing and defining useful functions\n",
    "1. Reading the trade data and spliting it into train and test\n",
    "1. Generating the training graph data\n",
    "1. Training the graph model\n",
    "1. Producing recommendations\n",
    "1. Evaluating the recommendations"
   ]
  },
  {
   "cell_type": "markdown",
   "id": "9c418be3-ca05-4582-b160-655191cfa227",
   "metadata": {
    "tags": []
   },
   "source": [
    "## Importing and defining useful functions"
   ]
  },
  {
   "cell_type": "code",
   "execution_count": null,
   "id": "a3dd8bae-f9d6-4fd3-8059-979c9739bf95",
   "metadata": {
    "tags": []
   },
   "outputs": [],
   "source": [
    "import os\n",
    "import glob\n",
    "import json\n",
    "import numpy as np\n",
    "import pandas as pd\n",
    "import time\n",
    "from sklearn.preprocessing import MinMaxScaler\n",
    "\n",
    "from utils import read_dataset, USER, ITEM\n",
    "from explain import compute_matrices, build_explainability_df"
   ]
  },
  {
   "cell_type": "code",
   "execution_count": null,
   "id": "3ab86ff6-b755-4fe9-bcc1-6f352ba39a39",
   "metadata": {
    "tags": []
   },
   "outputs": [],
   "source": [
    "def os_system(cmd):\n",
    "    print(cmd)\n",
    "    os.system(cmd)\n",
    "\n",
    "\n",
    "def ranked_list(li):\n",
    "    return [(item, i) for i, item in enumerate(li)]\n",
    "\n",
    "\n",
    "def rank(preds_list, true_set):\n",
    "    for i, pred in enumerate(preds_list):\n",
    "        if pred in true_set:\n",
    "            return i + 1\n",
    "    return 100_000\n",
    "\n",
    "\n",
    "def compute_metrics(reco_dict, true_dict):\n",
    "    support = set(reco_dict.keys()) & set(true_dict.keys())\n",
    "    rank_dict = {user: rank(reco_dict[user], true_dict[user]) for user in support}\n",
    "    r = {\n",
    "            'mr': np.median(list(rank_dict.values())),\n",
    "            'mrr': np.mean([1 / r for r in rank_dict.values()]),\n",
    "    }\n",
    "    for k in [1, 3, 10, 25, 50]:\n",
    "        r[f'hit@{k}'] = np.mean([r <= k for r in rank_dict.values()])\n",
    "    return r\n",
    "\n",
    "\n",
    "def print_metrics(path, reco_dict, true_dict, meta_dict):\n",
    "    print(path)\n",
    "    r = compute_metrics(reco_dict, true_dict)\n",
    "    for k, v in r.items():\n",
    "        print(f'{k:<8}: {v:.3f}')\n",
    "    r.update(meta_dict)\n",
    "    with open(path, 'w') as f:\n",
    "        json.dump(r, f)\n",
    "\n",
    "        \n",
    "def dict_diff(reco_dict, train_dict):\n",
    "    d = {}\n",
    "    for user, items in reco_dict.items():\n",
    "        d[user] = [item for item in items if item not in train_dict[user]]\n",
    "    return d"
   ]
  },
  {
   "cell_type": "markdown",
   "id": "8c6591fe-af0f-485e-bc1e-1599f968f7ee",
   "metadata": {},
   "source": [
    "## Reading the trade data and spliting it into train and test"
   ]
  },
  {
   "cell_type": "code",
   "execution_count": null,
   "id": "32f2d442-12a8-4b6c-afdb-d7647e4d2fb6",
   "metadata": {
    "tags": []
   },
   "outputs": [],
   "source": [
    "filename = 'trades.tsv'\n",
    "training_index = 71\n",
    "prediction_index = 73\n",
    "    \n",
    "df = read_dataset(filename)    \n",
    "dates = sorted(df.date.unique())\n",
    "\n",
    "dataset_id = filename.split('.')[0]\n",
    "d1 = dates[training_index]\n",
    "d2 = dates[prediction_index]\n",
    "\n",
    "\n",
    "\"\"\"\n",
    "Train on [d1, d2[ and predict for d2\n",
    "\"\"\"\n",
    "\n",
    "i_train = (d1 <= df.date) & (df.date < d2)\n",
    "i_test = df.date == d2\n",
    "\n",
    "recency_quantile = 0.1\n",
    "keep_last = 100"
   ]
  },
  {
   "cell_type": "markdown",
   "id": "b8015d5c-baa0-46a9-98b6-7bb7e7b820e6",
   "metadata": {
    "tags": []
   },
   "source": [
    "## Generating the training graph data"
   ]
  },
  {
   "cell_type": "code",
   "execution_count": null,
   "id": "bddd9373-41f2-40a8-abeb-1847c1d1ac4d",
   "metadata": {
    "tags": []
   },
   "outputs": [],
   "source": [
    "d1str = str(d1)[:10]\n",
    "d2str = str(d2)[:10]\n",
    "data_slice = dataset_id + '_' + d1str + '_' + d2str\n",
    "print(data_slice)\n",
    "dset_dir = f'datasets/{data_slice}'\n",
    "os_system(f'rm -rf {dset_dir}')\n",
    "os_system(f'mkdir -p {dset_dir}')\n",
    "\n",
    "df['timestamp'] = df.date.view(int) / 1e9 / 86400\n",
    "\n",
    "df_train = df[i_train].sort_values('timestamp', ascending=False).copy()\n",
    "rank_map = df_train[[USER, ITEM]].drop_duplicates().groupby(USER)[ITEM].apply(ranked_list).to_dict()\n",
    "rank_map = {k: dict(v) for k, v in rank_map.items()}\n",
    "df_train['rank'] = df_train.apply(lambda row: rank_map[row[USER]][row[ITEM]], axis=1)\n",
    "df_train['age'] = df_train.timestamp.max() - df_train.timestamp\n",
    "recency_threshold = np.quantile(df_train.age, recency_quantile)\n",
    "df_train['recency'] = df_train['age'].apply(lambda r: 'recent' if r <= recency_threshold else 'old')\n",
    "df_train['relation'] = df_train.recency\n",
    "df_train_final = df_train[df_train['rank'] < keep_last]\n",
    "df_train_final = df_train_final[[USER, 'relation', ITEM]].drop_duplicates()\n",
    "df_train_final[[USER, 'relation', ITEM]].to_csv(f'{dset_dir}/train.tsv', header=None, index=None, sep=\"\\t\")\n",
    "df_test = df.loc[i_test, [USER, ITEM]].drop_duplicates()\n",
    "df_test['relation'] = 'recent'\n",
    "df_test[[USER, 'relation', ITEM]].to_csv(f'{dset_dir}/test.tsv', header=None, index=None, sep=\"\\t\")"
   ]
  },
  {
   "cell_type": "markdown",
   "id": "181a2a85-ee77-4a1e-93cd-04d62f068da1",
   "metadata": {
    "tags": []
   },
   "source": [
    "## Training the graph model"
   ]
  },
  {
   "cell_type": "code",
   "execution_count": null,
   "id": "0eb858f3-ce11-4216-bcd7-6741b786ecc4",
   "metadata": {
    "tags": []
   },
   "outputs": [],
   "source": [
    "model_name = 'TransE_l2'\n",
    "lr = 0.25\n",
    "batch_size = 1024\n",
    "hidden_dim = 512\n",
    "max_step = 5000\n",
    "regularization_coef = 1e-8\n",
    "gamma = 19.9\n",
    "\n",
    "topk = 200\n",
    "gpu = -1\n",
    "\n",
    "model_path = f'models/{model_name}_{data_slice}_0'\n",
    "os_system(f'rm -rf {model_path}')\n",
    "os_system(f'DGLBACKEND=pytorch dglke_train --model_name {model_name} --dataset {data_slice} --data_path ./{dset_dir}/ --format raw_udd_hrt --data_files train.tsv --lr {lr} --batch_size {batch_size} --hidden_dim {hidden_dim} --max_step {max_step} --log_interval 200 --regularization_coef {regularization_coef} --gpu {gpu} --gamma {gamma} --save_path models')"
   ]
  },
  {
   "cell_type": "markdown",
   "id": "81e73c44-2e1d-4bb6-8f84-9229ddf6e558",
   "metadata": {
    "tags": []
   },
   "source": [
    "## Producing recommendations"
   ]
  },
  {
   "cell_type": "code",
   "execution_count": null,
   "id": "05b5faa7-7514-4fbf-881f-dc8061edcf07",
   "metadata": {
    "tags": []
   },
   "outputs": [],
   "source": [
    "# Prepare inference data\n",
    "\n",
    "df_train_final[USER].drop_duplicates().to_csv(f'{dset_dir}/head.list', index=False, header=None)\n",
    "os_system(f'echo recent > {dset_dir}/rel.list')\n",
    "df_train_final[ITEM].drop_duplicates().to_csv(f'{dset_dir}/tail.list', index=False, header=None)"
   ]
  },
  {
   "cell_type": "code",
   "execution_count": null,
   "id": "308e8824-79fa-485a-a20c-e42dbb3243fd",
   "metadata": {
    "tags": []
   },
   "outputs": [],
   "source": [
    "# Make link predictions\n",
    "\n",
    "t = time.time()\n",
    "os_system(f\"DGLBACKEND=pytorch dglke_predict --model_path {model_path} --exec_mode batch_head --format 'h_r_t' --data_files {dset_dir}/head.list {dset_dir}/rel.list {dset_dir}/tail.list --topK {topk} --raw_data --entity_mfile {dset_dir}/entities.tsv --rel_mfile {dset_dir}/relations.tsv --output {model_path}/reco.tsv\")\n",
    "print(f'Inference took {time.time() - t:.1f}s')"
   ]
  },
  {
   "cell_type": "markdown",
   "id": "6f483caf-9525-4393-8cf2-87e5b529d660",
   "metadata": {
    "tags": []
   },
   "source": [
    "## Evaluating the recommendations"
   ]
  },
  {
   "cell_type": "code",
   "execution_count": null,
   "id": "de053001-a34a-4ebe-9ed9-3e4b05c13fbe",
   "metadata": {
    "tags": []
   },
   "outputs": [],
   "source": [
    "# Scoring model recommendations\n",
    "# Dependencies : reco.tsv df_test df_train df i_train i_test\n",
    "\n",
    "reco_df = pd.read_csv(f'{model_path}/reco.tsv', delimiter='\\t').rename({'head': USER, 'tail': ITEM}, axis=1)\n",
    "true_df = df_test.copy()\n",
    "train_dict = df_train.groupby(USER)[ITEM].apply(set).to_dict()\n",
    "reco_dict = reco_df.groupby(USER)[ITEM].apply(list).to_dict()\n",
    "true_dict = true_df.groupby(USER)[ITEM].apply(set).to_dict()\n",
    "\n",
    "def print_metrics(reco_dict, true_dict, meta_dict):\n",
    "    r = compute_metrics(reco_dict, true_dict)\n",
    "    for k, v in r.items():\n",
    "        print(f'{k:<8}: {v:.3f}')\n",
    "\n",
    "print('\\nall trades\\n')\n",
    "print_metrics(reco_dict, true_dict, {'date': d2str, 'model': model_name, 'filter': 'none'})\n",
    "print('\\nnew trades only\\n')\n",
    "print_metrics(dict_diff(reco_dict, train_dict), true_dict, {'date': d2str, 'model': model_name, 'filter': 'new'})\n",
    "\n",
    "# Compute distances\n",
    "\n",
    "e_names = pd.read_csv(f'{dset_dir}/entities.tsv', sep='\\t', header=None, names=['index', 'entity'])['entity']\n",
    "e = np.load(f'{model_path}/{data_slice}_{model_name}_entity.npy')\n",
    "print('\\nCompute distances...')\n",
    "m_dict = compute_matrices(df_train_final, e_names, e)\n",
    "\n",
    "print('\\nDump distance files...')\n",
    "for c in USER, ITEM:\n",
    "    ddf = pd.merge(m_dict['euclidean'][c], m_dict['common'][c]).sort_values([c + '_1', 'distance'])\n",
    "    tag = 'user' if c == USER else 'item'\n",
    "    #ddf.to_csv(f'{model_path}/distances_{tag}.tsv', sep='\\t')\n",
    "    ddf.to_pickle(f'{model_path}/distances_{tag}.pkl')\n",
    "\n",
    "\n",
    "print('Done')"
   ]
  },
  {
   "cell_type": "code",
   "execution_count": null,
   "id": "e638fe44-bde1-4372-a50d-d8939060e56f",
   "metadata": {},
   "outputs": [],
   "source": []
  }
 ],
 "metadata": {
  "kernelspec": {
   "display_name": "conda_dglke",
   "language": "python",
   "name": "conda_dglke"
  },
  "language_info": {
   "codemirror_mode": {
    "name": "ipython",
    "version": 3
   },
   "file_extension": ".py",
   "mimetype": "text/x-python",
   "name": "python",
   "nbconvert_exporter": "python",
   "pygments_lexer": "ipython3",
   "version": "3.7.16"
  }
 },
 "nbformat": 4,
 "nbformat_minor": 5
}
