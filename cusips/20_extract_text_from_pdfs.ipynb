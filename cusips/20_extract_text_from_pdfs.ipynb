{
 "cells": [
  {
   "cell_type": "markdown",
   "id": "33c07978-9240-47c1-9692-3366ebff702b",
   "metadata": {},
   "source": [
    "# Extract CUSIP data with PDFMINER.SIX"
   ]
  },
  {
   "cell_type": "code",
   "execution_count": 1,
   "id": "b7a5ace9-e444-4874-b13e-063bfe982ef6",
   "metadata": {},
   "outputs": [
    {
     "name": "stdout",
     "output_type": "stream",
     "text": [
      "Looking in indexes: https://pypi.org/simple, https://pip.repos.neuron.amazonaws.com\n",
      "Requirement already satisfied: pdfminer.six in /home/ec2-user/anaconda3/envs/python3/lib/python3.10/site-packages (20221105)\n",
      "Requirement already satisfied: cryptography>=36.0.0 in /home/ec2-user/anaconda3/envs/python3/lib/python3.10/site-packages (from pdfminer.six) (38.0.2)\n",
      "Requirement already satisfied: charset-normalizer>=2.0.0 in /home/ec2-user/anaconda3/envs/python3/lib/python3.10/site-packages (from pdfminer.six) (2.1.1)\n",
      "Requirement already satisfied: cffi>=1.12 in /home/ec2-user/anaconda3/envs/python3/lib/python3.10/site-packages (from cryptography>=36.0.0->pdfminer.six) (1.15.1)\n",
      "Requirement already satisfied: pycparser in /home/ec2-user/anaconda3/envs/python3/lib/python3.10/site-packages (from cffi>=1.12->cryptography>=36.0.0->pdfminer.six) (2.21)\n"
     ]
    }
   ],
   "source": [
    "!pip install pdfminer.six"
   ]
  },
  {
   "cell_type": "code",
   "execution_count": 2,
   "id": "f176b18e-9247-484b-99a4-31305c668971",
   "metadata": {
    "tags": []
   },
   "outputs": [
    {
     "data": {
      "text/plain": [
       "91529"
      ]
     },
     "execution_count": 2,
     "metadata": {},
     "output_type": "execute_result"
    }
   ],
   "source": [
    "import glob\n",
    "from pdfminer.high_level import extract_text\n",
    "from tqdm import trange, tqdm\n",
    "\n",
    "\n",
    "def read_lines(path):\n",
    "    text = extract_text(path)\n",
    "    lines = []\n",
    "    for line_number, line in enumerate(text.split('\\n')):\n",
    "        lines.append([path, line_number+1, line])\n",
    "    return lines\n",
    "\n",
    "lines = read_lines('source_data/2017q1.pdf')\n",
    "len(lines)"
   ]
  },
  {
   "cell_type": "code",
   "execution_count": 3,
   "id": "71276c35-e88d-4678-b740-697ede8752b9",
   "metadata": {},
   "outputs": [
    {
     "data": {
      "text/plain": [
       "[['source_data/2017q1.pdf', 1, 'List of Section 13F Securities '],\n",
       " ['source_data/2017q1.pdf', 2, ''],\n",
       " ['source_data/2017q1.pdf', 3, 'First Quarter \\uf075 FY 2017 '],\n",
       " ['source_data/2017q1.pdf', 4, ''],\n",
       " ['source_data/2017q1.pdf',\n",
       "  5,\n",
       "  'Copyright (c) 2017 American Bankers Association. CUSIP Numbers and '],\n",
       " ['source_data/2017q1.pdf',\n",
       "  6,\n",
       "  'descriptions are used with permission by Standard & Poors CUSIP Service '],\n",
       " ['source_data/2017q1.pdf',\n",
       "  7,\n",
       "  'Bureau, a division of The McGraw-Hill Companies, Inc. All rights reserved. '],\n",
       " ['source_data/2017q1.pdf',\n",
       "  8,\n",
       "  'No redistribution without permission from Standard & Poors CUSIP Service '],\n",
       " ['source_data/2017q1.pdf', 9, 'Bureau. '],\n",
       " ['source_data/2017q1.pdf', 10, '']]"
      ]
     },
     "execution_count": 3,
     "metadata": {},
     "output_type": "execute_result"
    }
   ],
   "source": [
    "lines[:10]"
   ]
  },
  {
   "cell_type": "code",
   "execution_count": null,
   "id": "8774fc92-0445-46ea-815d-4b088233f2ee",
   "metadata": {
    "tags": []
   },
   "outputs": [
    {
     "name": "stderr",
     "output_type": "stream",
     "text": [
      " 11%|█         | 6/56 [03:29<28:50, 34.61s/it]"
     ]
    }
   ],
   "source": [
    "def read_lines_multi(path):\n",
    "    lines = []\n",
    "    for path in tqdm(glob.glob(path)):\n",
    "        lines += read_lines(path)\n",
    "    return lines\n",
    "\n",
    "lines = read_lines_multi('source_data/*.pdf')\n",
    "len(lines)"
   ]
  },
  {
   "cell_type": "code",
   "execution_count": 8,
   "id": "875af1d5-120f-4a51-b987-9e4253369793",
   "metadata": {},
   "outputs": [
    {
     "data": {
      "text/html": [
       "<div>\n",
       "<style scoped>\n",
       "    .dataframe tbody tr th:only-of-type {\n",
       "        vertical-align: middle;\n",
       "    }\n",
       "\n",
       "    .dataframe tbody tr th {\n",
       "        vertical-align: top;\n",
       "    }\n",
       "\n",
       "    .dataframe thead th {\n",
       "        text-align: right;\n",
       "    }\n",
       "</style>\n",
       "<table border=\"1\" class=\"dataframe\">\n",
       "  <thead>\n",
       "    <tr style=\"text-align: right;\">\n",
       "      <th></th>\n",
       "      <th>path</th>\n",
       "      <th>line_number</th>\n",
       "      <th>line</th>\n",
       "    </tr>\n",
       "  </thead>\n",
       "  <tbody>\n",
       "    <tr>\n",
       "      <th>2183596</th>\n",
       "      <td>source_data/2004q1.pdf</td>\n",
       "      <td>1</td>\n",
       "      <td>List of Section 13F Securities</td>\n",
       "    </tr>\n",
       "    <tr>\n",
       "      <th>2183597</th>\n",
       "      <td>source_data/2004q1.pdf</td>\n",
       "      <td>2</td>\n",
       "      <td></td>\n",
       "    </tr>\n",
       "    <tr>\n",
       "      <th>2183598</th>\n",
       "      <td>source_data/2004q1.pdf</td>\n",
       "      <td>3</td>\n",
       "      <td>1st Quarter (cid:139) FY 2004</td>\n",
       "    </tr>\n",
       "    <tr>\n",
       "      <th>2183599</th>\n",
       "      <td>source_data/2004q1.pdf</td>\n",
       "      <td>4</td>\n",
       "      <td></td>\n",
       "    </tr>\n",
       "    <tr>\n",
       "      <th>2183600</th>\n",
       "      <td>source_data/2004q1.pdf</td>\n",
       "      <td>5</td>\n",
       "      <td>Copyright (c) 2004 American Bankers Associatio...</td>\n",
       "    </tr>\n",
       "    <tr>\n",
       "      <th>...</th>\n",
       "      <td>...</td>\n",
       "      <td>...</td>\n",
       "      <td>...</td>\n",
       "    </tr>\n",
       "    <tr>\n",
       "      <th>902061</th>\n",
       "      <td>source_data/2017q4.pdf</td>\n",
       "      <td>93566</td>\n",
       "      <td>PUT</td>\n",
       "    </tr>\n",
       "    <tr>\n",
       "      <th>902062</th>\n",
       "      <td>source_data/2017q4.pdf</td>\n",
       "      <td>93567</td>\n",
       "      <td></td>\n",
       "    </tr>\n",
       "    <tr>\n",
       "      <th>902063</th>\n",
       "      <td>source_data/2017q4.pdf</td>\n",
       "      <td>93568</td>\n",
       "      <td>Total Count: 17,770</td>\n",
       "    </tr>\n",
       "    <tr>\n",
       "      <th>902064</th>\n",
       "      <td>source_data/2017q4.pdf</td>\n",
       "      <td>93569</td>\n",
       "      <td></td>\n",
       "    </tr>\n",
       "    <tr>\n",
       "      <th>902065</th>\n",
       "      <td>source_data/2017q4.pdf</td>\n",
       "      <td>93570</td>\n",
       "      <td></td>\n",
       "    </tr>\n",
       "  </tbody>\n",
       "</table>\n",
       "<p>5209445 rows × 3 columns</p>\n",
       "</div>"
      ],
      "text/plain": [
       "                           path  line_number  \\\n",
       "2183596  source_data/2004q1.pdf            1   \n",
       "2183597  source_data/2004q1.pdf            2   \n",
       "2183598  source_data/2004q1.pdf            3   \n",
       "2183599  source_data/2004q1.pdf            4   \n",
       "2183600  source_data/2004q1.pdf            5   \n",
       "...                         ...          ...   \n",
       "902061   source_data/2017q4.pdf        93566   \n",
       "902062   source_data/2017q4.pdf        93567   \n",
       "902063   source_data/2017q4.pdf        93568   \n",
       "902064   source_data/2017q4.pdf        93569   \n",
       "902065   source_data/2017q4.pdf        93570   \n",
       "\n",
       "                                                      line  \n",
       "2183596                    List of Section 13F Securities   \n",
       "2183597                                                     \n",
       "2183598                     1st Quarter (cid:139) FY 2004   \n",
       "2183599                                                     \n",
       "2183600  Copyright (c) 2004 American Bankers Associatio...  \n",
       "...                                                    ...  \n",
       "902061                                                 PUT  \n",
       "902062                                                      \n",
       "902063                                 Total Count: 17,770  \n",
       "902064                                                      \n",
       "902065                                                   \n",
       "  \n",
       "\n",
       "[5209445 rows x 3 columns]"
      ]
     },
     "execution_count": 8,
     "metadata": {},
     "output_type": "execute_result"
    }
   ],
   "source": [
    "import pandas as pd\n",
    "\n",
    "df = pd.DataFrame(lines, columns='path line_number line'.split()).sort_values('path line_number'.split())\n",
    "df"
   ]
  },
  {
   "cell_type": "code",
   "execution_count": 9,
   "id": "13fc4f5d-3819-4eed-b29a-b827dd290d3a",
   "metadata": {},
   "outputs": [],
   "source": [
    "df.to_csv('cusips_raw.tsv', index=False, sep='\\t')"
   ]
  },
  {
   "cell_type": "code",
   "execution_count": 10,
   "id": "76bfa5d8-e584-410e-af9f-f03b3bc21387",
   "metadata": {},
   "outputs": [
    {
     "name": "stdout",
     "output_type": "stream",
     "text": [
      "path\tline_number\tline\n",
      "source_data/2004q1.pdf\t1\tList of Section 13F Securities \n",
      "source_data/2004q1.pdf\t2\t\n",
      "source_data/2004q1.pdf\t3\t1st Quarter (cid:139) FY 2004 \n",
      "source_data/2004q1.pdf\t4\t\n",
      "source_data/2004q1.pdf\t5\tCopyright (c) 2004 American Bankers Association. CUSIP Numbers and \n",
      "source_data/2004q1.pdf\t6\tdescriptions are used with permission by Standard & Poors CUSIP Service \n",
      "source_data/2004q1.pdf\t7\tBureau, a division of The McGraw-Hill Companies, Inc.  All rights reserved.  \n",
      "source_data/2004q1.pdf\t8\tNo redistribution without permission from Standard & Poors CUSIP Service \n",
      "source_data/2004q1.pdf\t9\tBureau. \n"
     ]
    }
   ],
   "source": [
    "!head cusips_raw.tsv"
   ]
  },
  {
   "cell_type": "code",
   "execution_count": null,
   "id": "f1579c9b-090c-4fb7-98b8-04538fa09ea4",
   "metadata": {},
   "outputs": [],
   "source": []
  }
 ],
 "metadata": {
  "kernelspec": {
   "display_name": "conda_python3",
   "language": "python",
   "name": "conda_python3"
  },
  "language_info": {
   "codemirror_mode": {
    "name": "ipython",
    "version": 3
   },
   "file_extension": ".py",
   "mimetype": "text/x-python",
   "name": "python",
   "nbconvert_exporter": "python",
   "pygments_lexer": "ipython3",
   "version": "3.10.6"
  }
 },
 "nbformat": 4,
 "nbformat_minor": 5
}
